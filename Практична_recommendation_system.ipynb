{
  "nbformat": 4,
  "nbformat_minor": 0,
  "metadata": {
    "colab": {
      "provenance": [],
      "include_colab_link": true
    },
    "kernelspec": {
      "name": "python3",
      "display_name": "Python 3"
    },
    "language_info": {
      "name": "python"
    }
  },
  "cells": [
    {
      "cell_type": "markdown",
      "metadata": {
        "id": "view-in-github",
        "colab_type": "text"
      },
      "source": [
        "<a href=\"https://colab.research.google.com/github/HromovAndrey/II_mood_7_part_2/blob/main/%D0%9F%D1%80%D0%B0%D0%BA%D1%82%D0%B8%D1%87%D0%BD%D0%B0_recommendation_system.ipynb\" target=\"_parent\"><img src=\"https://colab.research.google.com/assets/colab-badge.svg\" alt=\"Open In Colab\"/></a>"
      ]
    },
    {
      "cell_type": "markdown",
      "source": [
        "# Завдання\n",
        "\n",
        "* Створіть Reader\n",
        "* Створіть датасет та розділіть його на тренувальні та тестові дані\n",
        "* Виберіть метрики для поріняння якості моделей\n",
        "* На основі метрик виберіть найкращу модель\n",
        "* Використайте `optuna` для підбору найкращих параметрів\n",
        "\n"
      ],
      "metadata": {
        "id": "cpuh9s2eYX3v"
      }
    },
    {
      "cell_type": "code",
      "source": [],
      "metadata": {
        "id": "6f2XRtfeN6U4"
      },
      "execution_count": 6,
      "outputs": []
    },
    {
      "cell_type": "code",
      "execution_count": 7,
      "metadata": {
        "colab": {
          "base_uri": "https://localhost:8080/",
          "height": 206
        },
        "id": "wIK2PWg8YMIs",
        "outputId": "22f15fea-c92b-47c8-a23e-821f0ac89383"
      },
      "outputs": [
        {
          "output_type": "execute_result",
          "data": {
            "text/plain": [
              "   blog_id  userId  ratings\n",
              "0     9025      11      3.5\n",
              "1     9320      11      5.0\n",
              "2     9246      11      3.5\n",
              "3     9431      11      5.0\n",
              "4      875      11      2.0"
            ],
            "text/html": [
              "\n",
              "  <div id=\"df-78cc32d8-07a3-448f-8847-63c77c5d15dd\" class=\"colab-df-container\">\n",
              "    <div>\n",
              "<style scoped>\n",
              "    .dataframe tbody tr th:only-of-type {\n",
              "        vertical-align: middle;\n",
              "    }\n",
              "\n",
              "    .dataframe tbody tr th {\n",
              "        vertical-align: top;\n",
              "    }\n",
              "\n",
              "    .dataframe thead th {\n",
              "        text-align: right;\n",
              "    }\n",
              "</style>\n",
              "<table border=\"1\" class=\"dataframe\">\n",
              "  <thead>\n",
              "    <tr style=\"text-align: right;\">\n",
              "      <th></th>\n",
              "      <th>blog_id</th>\n",
              "      <th>userId</th>\n",
              "      <th>ratings</th>\n",
              "    </tr>\n",
              "  </thead>\n",
              "  <tbody>\n",
              "    <tr>\n",
              "      <th>0</th>\n",
              "      <td>9025</td>\n",
              "      <td>11</td>\n",
              "      <td>3.5</td>\n",
              "    </tr>\n",
              "    <tr>\n",
              "      <th>1</th>\n",
              "      <td>9320</td>\n",
              "      <td>11</td>\n",
              "      <td>5.0</td>\n",
              "    </tr>\n",
              "    <tr>\n",
              "      <th>2</th>\n",
              "      <td>9246</td>\n",
              "      <td>11</td>\n",
              "      <td>3.5</td>\n",
              "    </tr>\n",
              "    <tr>\n",
              "      <th>3</th>\n",
              "      <td>9431</td>\n",
              "      <td>11</td>\n",
              "      <td>5.0</td>\n",
              "    </tr>\n",
              "    <tr>\n",
              "      <th>4</th>\n",
              "      <td>875</td>\n",
              "      <td>11</td>\n",
              "      <td>2.0</td>\n",
              "    </tr>\n",
              "  </tbody>\n",
              "</table>\n",
              "</div>\n",
              "    <div class=\"colab-df-buttons\">\n",
              "\n",
              "  <div class=\"colab-df-container\">\n",
              "    <button class=\"colab-df-convert\" onclick=\"convertToInteractive('df-78cc32d8-07a3-448f-8847-63c77c5d15dd')\"\n",
              "            title=\"Convert this dataframe to an interactive table.\"\n",
              "            style=\"display:none;\">\n",
              "\n",
              "  <svg xmlns=\"http://www.w3.org/2000/svg\" height=\"24px\" viewBox=\"0 -960 960 960\">\n",
              "    <path d=\"M120-120v-720h720v720H120Zm60-500h600v-160H180v160Zm220 220h160v-160H400v160Zm0 220h160v-160H400v160ZM180-400h160v-160H180v160Zm440 0h160v-160H620v160ZM180-180h160v-160H180v160Zm440 0h160v-160H620v160Z\"/>\n",
              "  </svg>\n",
              "    </button>\n",
              "\n",
              "  <style>\n",
              "    .colab-df-container {\n",
              "      display:flex;\n",
              "      gap: 12px;\n",
              "    }\n",
              "\n",
              "    .colab-df-convert {\n",
              "      background-color: #E8F0FE;\n",
              "      border: none;\n",
              "      border-radius: 50%;\n",
              "      cursor: pointer;\n",
              "      display: none;\n",
              "      fill: #1967D2;\n",
              "      height: 32px;\n",
              "      padding: 0 0 0 0;\n",
              "      width: 32px;\n",
              "    }\n",
              "\n",
              "    .colab-df-convert:hover {\n",
              "      background-color: #E2EBFA;\n",
              "      box-shadow: 0px 1px 2px rgba(60, 64, 67, 0.3), 0px 1px 3px 1px rgba(60, 64, 67, 0.15);\n",
              "      fill: #174EA6;\n",
              "    }\n",
              "\n",
              "    .colab-df-buttons div {\n",
              "      margin-bottom: 4px;\n",
              "    }\n",
              "\n",
              "    [theme=dark] .colab-df-convert {\n",
              "      background-color: #3B4455;\n",
              "      fill: #D2E3FC;\n",
              "    }\n",
              "\n",
              "    [theme=dark] .colab-df-convert:hover {\n",
              "      background-color: #434B5C;\n",
              "      box-shadow: 0px 1px 3px 1px rgba(0, 0, 0, 0.15);\n",
              "      filter: drop-shadow(0px 1px 2px rgba(0, 0, 0, 0.3));\n",
              "      fill: #FFFFFF;\n",
              "    }\n",
              "  </style>\n",
              "\n",
              "    <script>\n",
              "      const buttonEl =\n",
              "        document.querySelector('#df-78cc32d8-07a3-448f-8847-63c77c5d15dd button.colab-df-convert');\n",
              "      buttonEl.style.display =\n",
              "        google.colab.kernel.accessAllowed ? 'block' : 'none';\n",
              "\n",
              "      async function convertToInteractive(key) {\n",
              "        const element = document.querySelector('#df-78cc32d8-07a3-448f-8847-63c77c5d15dd');\n",
              "        const dataTable =\n",
              "          await google.colab.kernel.invokeFunction('convertToInteractive',\n",
              "                                                    [key], {});\n",
              "        if (!dataTable) return;\n",
              "\n",
              "        const docLinkHtml = 'Like what you see? Visit the ' +\n",
              "          '<a target=\"_blank\" href=https://colab.research.google.com/notebooks/data_table.ipynb>data table notebook</a>'\n",
              "          + ' to learn more about interactive tables.';\n",
              "        element.innerHTML = '';\n",
              "        dataTable['output_type'] = 'display_data';\n",
              "        await google.colab.output.renderOutput(dataTable, element);\n",
              "        const docLink = document.createElement('div');\n",
              "        docLink.innerHTML = docLinkHtml;\n",
              "        element.appendChild(docLink);\n",
              "      }\n",
              "    </script>\n",
              "  </div>\n",
              "\n",
              "\n",
              "<div id=\"df-eb09e6b0-3753-462c-8ec3-09f82295ab15\">\n",
              "  <button class=\"colab-df-quickchart\" onclick=\"quickchart('df-eb09e6b0-3753-462c-8ec3-09f82295ab15')\"\n",
              "            title=\"Suggest charts\"\n",
              "            style=\"display:none;\">\n",
              "\n",
              "<svg xmlns=\"http://www.w3.org/2000/svg\" height=\"24px\"viewBox=\"0 0 24 24\"\n",
              "     width=\"24px\">\n",
              "    <g>\n",
              "        <path d=\"M19 3H5c-1.1 0-2 .9-2 2v14c0 1.1.9 2 2 2h14c1.1 0 2-.9 2-2V5c0-1.1-.9-2-2-2zM9 17H7v-7h2v7zm4 0h-2V7h2v10zm4 0h-2v-4h2v4z\"/>\n",
              "    </g>\n",
              "</svg>\n",
              "  </button>\n",
              "\n",
              "<style>\n",
              "  .colab-df-quickchart {\n",
              "      --bg-color: #E8F0FE;\n",
              "      --fill-color: #1967D2;\n",
              "      --hover-bg-color: #E2EBFA;\n",
              "      --hover-fill-color: #174EA6;\n",
              "      --disabled-fill-color: #AAA;\n",
              "      --disabled-bg-color: #DDD;\n",
              "  }\n",
              "\n",
              "  [theme=dark] .colab-df-quickchart {\n",
              "      --bg-color: #3B4455;\n",
              "      --fill-color: #D2E3FC;\n",
              "      --hover-bg-color: #434B5C;\n",
              "      --hover-fill-color: #FFFFFF;\n",
              "      --disabled-bg-color: #3B4455;\n",
              "      --disabled-fill-color: #666;\n",
              "  }\n",
              "\n",
              "  .colab-df-quickchart {\n",
              "    background-color: var(--bg-color);\n",
              "    border: none;\n",
              "    border-radius: 50%;\n",
              "    cursor: pointer;\n",
              "    display: none;\n",
              "    fill: var(--fill-color);\n",
              "    height: 32px;\n",
              "    padding: 0;\n",
              "    width: 32px;\n",
              "  }\n",
              "\n",
              "  .colab-df-quickchart:hover {\n",
              "    background-color: var(--hover-bg-color);\n",
              "    box-shadow: 0 1px 2px rgba(60, 64, 67, 0.3), 0 1px 3px 1px rgba(60, 64, 67, 0.15);\n",
              "    fill: var(--button-hover-fill-color);\n",
              "  }\n",
              "\n",
              "  .colab-df-quickchart-complete:disabled,\n",
              "  .colab-df-quickchart-complete:disabled:hover {\n",
              "    background-color: var(--disabled-bg-color);\n",
              "    fill: var(--disabled-fill-color);\n",
              "    box-shadow: none;\n",
              "  }\n",
              "\n",
              "  .colab-df-spinner {\n",
              "    border: 2px solid var(--fill-color);\n",
              "    border-color: transparent;\n",
              "    border-bottom-color: var(--fill-color);\n",
              "    animation:\n",
              "      spin 1s steps(1) infinite;\n",
              "  }\n",
              "\n",
              "  @keyframes spin {\n",
              "    0% {\n",
              "      border-color: transparent;\n",
              "      border-bottom-color: var(--fill-color);\n",
              "      border-left-color: var(--fill-color);\n",
              "    }\n",
              "    20% {\n",
              "      border-color: transparent;\n",
              "      border-left-color: var(--fill-color);\n",
              "      border-top-color: var(--fill-color);\n",
              "    }\n",
              "    30% {\n",
              "      border-color: transparent;\n",
              "      border-left-color: var(--fill-color);\n",
              "      border-top-color: var(--fill-color);\n",
              "      border-right-color: var(--fill-color);\n",
              "    }\n",
              "    40% {\n",
              "      border-color: transparent;\n",
              "      border-right-color: var(--fill-color);\n",
              "      border-top-color: var(--fill-color);\n",
              "    }\n",
              "    60% {\n",
              "      border-color: transparent;\n",
              "      border-right-color: var(--fill-color);\n",
              "    }\n",
              "    80% {\n",
              "      border-color: transparent;\n",
              "      border-right-color: var(--fill-color);\n",
              "      border-bottom-color: var(--fill-color);\n",
              "    }\n",
              "    90% {\n",
              "      border-color: transparent;\n",
              "      border-bottom-color: var(--fill-color);\n",
              "    }\n",
              "  }\n",
              "</style>\n",
              "\n",
              "  <script>\n",
              "    async function quickchart(key) {\n",
              "      const quickchartButtonEl =\n",
              "        document.querySelector('#' + key + ' button');\n",
              "      quickchartButtonEl.disabled = true;  // To prevent multiple clicks.\n",
              "      quickchartButtonEl.classList.add('colab-df-spinner');\n",
              "      try {\n",
              "        const charts = await google.colab.kernel.invokeFunction(\n",
              "            'suggestCharts', [key], {});\n",
              "      } catch (error) {\n",
              "        console.error('Error during call to suggestCharts:', error);\n",
              "      }\n",
              "      quickchartButtonEl.classList.remove('colab-df-spinner');\n",
              "      quickchartButtonEl.classList.add('colab-df-quickchart-complete');\n",
              "    }\n",
              "    (() => {\n",
              "      let quickchartButtonEl =\n",
              "        document.querySelector('#df-eb09e6b0-3753-462c-8ec3-09f82295ab15 button');\n",
              "      quickchartButtonEl.style.display =\n",
              "        google.colab.kernel.accessAllowed ? 'block' : 'none';\n",
              "    })();\n",
              "  </script>\n",
              "</div>\n",
              "    </div>\n",
              "  </div>\n"
            ],
            "application/vnd.google.colaboratory.intrinsic+json": {
              "type": "dataframe",
              "variable_name": "df"
            }
          },
          "metadata": {},
          "execution_count": 7
        }
      ],
      "source": [
        "import pandas as pd\n",
        "\n",
        "df = pd.read_csv(\"https://raw.githubusercontent.com/HalyshAnton/IT-Step-Pyton-AI/main/module7/data/Blog%20Ratings.csv\")\n",
        "\n",
        "df.head()"
      ]
    },
    {
      "cell_type": "code",
      "source": [
        "df.describe()"
      ],
      "metadata": {
        "id": "GbUFFlp7YXS5",
        "colab": {
          "base_uri": "https://localhost:8080/",
          "height": 300
        },
        "outputId": "cc125e6f-f148-4f4a-d288-69e9ec7c36ca"
      },
      "execution_count": 8,
      "outputs": [
        {
          "output_type": "execute_result",
          "data": {
            "text/plain": [
              "             blog_id         userId        ratings\n",
              "count  200140.000000  200140.000000  200140.000000\n",
              "mean     5652.533621    2545.710158       3.117468\n",
              "std      2970.685946    1446.195478       1.768113\n",
              "min         1.000000      10.000000       0.500000\n",
              "25%      2906.000000    1314.000000       2.000000\n",
              "50%      5994.000000    2552.000000       3.500000\n",
              "75%      8510.000000    3795.000000       5.000000\n",
              "max      9755.000000    5010.000000       5.000000"
            ],
            "text/html": [
              "\n",
              "  <div id=\"df-681479a8-47a1-4e16-acc6-10b966cb6c66\" class=\"colab-df-container\">\n",
              "    <div>\n",
              "<style scoped>\n",
              "    .dataframe tbody tr th:only-of-type {\n",
              "        vertical-align: middle;\n",
              "    }\n",
              "\n",
              "    .dataframe tbody tr th {\n",
              "        vertical-align: top;\n",
              "    }\n",
              "\n",
              "    .dataframe thead th {\n",
              "        text-align: right;\n",
              "    }\n",
              "</style>\n",
              "<table border=\"1\" class=\"dataframe\">\n",
              "  <thead>\n",
              "    <tr style=\"text-align: right;\">\n",
              "      <th></th>\n",
              "      <th>blog_id</th>\n",
              "      <th>userId</th>\n",
              "      <th>ratings</th>\n",
              "    </tr>\n",
              "  </thead>\n",
              "  <tbody>\n",
              "    <tr>\n",
              "      <th>count</th>\n",
              "      <td>200140.000000</td>\n",
              "      <td>200140.000000</td>\n",
              "      <td>200140.000000</td>\n",
              "    </tr>\n",
              "    <tr>\n",
              "      <th>mean</th>\n",
              "      <td>5652.533621</td>\n",
              "      <td>2545.710158</td>\n",
              "      <td>3.117468</td>\n",
              "    </tr>\n",
              "    <tr>\n",
              "      <th>std</th>\n",
              "      <td>2970.685946</td>\n",
              "      <td>1446.195478</td>\n",
              "      <td>1.768113</td>\n",
              "    </tr>\n",
              "    <tr>\n",
              "      <th>min</th>\n",
              "      <td>1.000000</td>\n",
              "      <td>10.000000</td>\n",
              "      <td>0.500000</td>\n",
              "    </tr>\n",
              "    <tr>\n",
              "      <th>25%</th>\n",
              "      <td>2906.000000</td>\n",
              "      <td>1314.000000</td>\n",
              "      <td>2.000000</td>\n",
              "    </tr>\n",
              "    <tr>\n",
              "      <th>50%</th>\n",
              "      <td>5994.000000</td>\n",
              "      <td>2552.000000</td>\n",
              "      <td>3.500000</td>\n",
              "    </tr>\n",
              "    <tr>\n",
              "      <th>75%</th>\n",
              "      <td>8510.000000</td>\n",
              "      <td>3795.000000</td>\n",
              "      <td>5.000000</td>\n",
              "    </tr>\n",
              "    <tr>\n",
              "      <th>max</th>\n",
              "      <td>9755.000000</td>\n",
              "      <td>5010.000000</td>\n",
              "      <td>5.000000</td>\n",
              "    </tr>\n",
              "  </tbody>\n",
              "</table>\n",
              "</div>\n",
              "    <div class=\"colab-df-buttons\">\n",
              "\n",
              "  <div class=\"colab-df-container\">\n",
              "    <button class=\"colab-df-convert\" onclick=\"convertToInteractive('df-681479a8-47a1-4e16-acc6-10b966cb6c66')\"\n",
              "            title=\"Convert this dataframe to an interactive table.\"\n",
              "            style=\"display:none;\">\n",
              "\n",
              "  <svg xmlns=\"http://www.w3.org/2000/svg\" height=\"24px\" viewBox=\"0 -960 960 960\">\n",
              "    <path d=\"M120-120v-720h720v720H120Zm60-500h600v-160H180v160Zm220 220h160v-160H400v160Zm0 220h160v-160H400v160ZM180-400h160v-160H180v160Zm440 0h160v-160H620v160ZM180-180h160v-160H180v160Zm440 0h160v-160H620v160Z\"/>\n",
              "  </svg>\n",
              "    </button>\n",
              "\n",
              "  <style>\n",
              "    .colab-df-container {\n",
              "      display:flex;\n",
              "      gap: 12px;\n",
              "    }\n",
              "\n",
              "    .colab-df-convert {\n",
              "      background-color: #E8F0FE;\n",
              "      border: none;\n",
              "      border-radius: 50%;\n",
              "      cursor: pointer;\n",
              "      display: none;\n",
              "      fill: #1967D2;\n",
              "      height: 32px;\n",
              "      padding: 0 0 0 0;\n",
              "      width: 32px;\n",
              "    }\n",
              "\n",
              "    .colab-df-convert:hover {\n",
              "      background-color: #E2EBFA;\n",
              "      box-shadow: 0px 1px 2px rgba(60, 64, 67, 0.3), 0px 1px 3px 1px rgba(60, 64, 67, 0.15);\n",
              "      fill: #174EA6;\n",
              "    }\n",
              "\n",
              "    .colab-df-buttons div {\n",
              "      margin-bottom: 4px;\n",
              "    }\n",
              "\n",
              "    [theme=dark] .colab-df-convert {\n",
              "      background-color: #3B4455;\n",
              "      fill: #D2E3FC;\n",
              "    }\n",
              "\n",
              "    [theme=dark] .colab-df-convert:hover {\n",
              "      background-color: #434B5C;\n",
              "      box-shadow: 0px 1px 3px 1px rgba(0, 0, 0, 0.15);\n",
              "      filter: drop-shadow(0px 1px 2px rgba(0, 0, 0, 0.3));\n",
              "      fill: #FFFFFF;\n",
              "    }\n",
              "  </style>\n",
              "\n",
              "    <script>\n",
              "      const buttonEl =\n",
              "        document.querySelector('#df-681479a8-47a1-4e16-acc6-10b966cb6c66 button.colab-df-convert');\n",
              "      buttonEl.style.display =\n",
              "        google.colab.kernel.accessAllowed ? 'block' : 'none';\n",
              "\n",
              "      async function convertToInteractive(key) {\n",
              "        const element = document.querySelector('#df-681479a8-47a1-4e16-acc6-10b966cb6c66');\n",
              "        const dataTable =\n",
              "          await google.colab.kernel.invokeFunction('convertToInteractive',\n",
              "                                                    [key], {});\n",
              "        if (!dataTable) return;\n",
              "\n",
              "        const docLinkHtml = 'Like what you see? Visit the ' +\n",
              "          '<a target=\"_blank\" href=https://colab.research.google.com/notebooks/data_table.ipynb>data table notebook</a>'\n",
              "          + ' to learn more about interactive tables.';\n",
              "        element.innerHTML = '';\n",
              "        dataTable['output_type'] = 'display_data';\n",
              "        await google.colab.output.renderOutput(dataTable, element);\n",
              "        const docLink = document.createElement('div');\n",
              "        docLink.innerHTML = docLinkHtml;\n",
              "        element.appendChild(docLink);\n",
              "      }\n",
              "    </script>\n",
              "  </div>\n",
              "\n",
              "\n",
              "<div id=\"df-dc8ef2be-410c-469d-859d-ad66abc0c474\">\n",
              "  <button class=\"colab-df-quickchart\" onclick=\"quickchart('df-dc8ef2be-410c-469d-859d-ad66abc0c474')\"\n",
              "            title=\"Suggest charts\"\n",
              "            style=\"display:none;\">\n",
              "\n",
              "<svg xmlns=\"http://www.w3.org/2000/svg\" height=\"24px\"viewBox=\"0 0 24 24\"\n",
              "     width=\"24px\">\n",
              "    <g>\n",
              "        <path d=\"M19 3H5c-1.1 0-2 .9-2 2v14c0 1.1.9 2 2 2h14c1.1 0 2-.9 2-2V5c0-1.1-.9-2-2-2zM9 17H7v-7h2v7zm4 0h-2V7h2v10zm4 0h-2v-4h2v4z\"/>\n",
              "    </g>\n",
              "</svg>\n",
              "  </button>\n",
              "\n",
              "<style>\n",
              "  .colab-df-quickchart {\n",
              "      --bg-color: #E8F0FE;\n",
              "      --fill-color: #1967D2;\n",
              "      --hover-bg-color: #E2EBFA;\n",
              "      --hover-fill-color: #174EA6;\n",
              "      --disabled-fill-color: #AAA;\n",
              "      --disabled-bg-color: #DDD;\n",
              "  }\n",
              "\n",
              "  [theme=dark] .colab-df-quickchart {\n",
              "      --bg-color: #3B4455;\n",
              "      --fill-color: #D2E3FC;\n",
              "      --hover-bg-color: #434B5C;\n",
              "      --hover-fill-color: #FFFFFF;\n",
              "      --disabled-bg-color: #3B4455;\n",
              "      --disabled-fill-color: #666;\n",
              "  }\n",
              "\n",
              "  .colab-df-quickchart {\n",
              "    background-color: var(--bg-color);\n",
              "    border: none;\n",
              "    border-radius: 50%;\n",
              "    cursor: pointer;\n",
              "    display: none;\n",
              "    fill: var(--fill-color);\n",
              "    height: 32px;\n",
              "    padding: 0;\n",
              "    width: 32px;\n",
              "  }\n",
              "\n",
              "  .colab-df-quickchart:hover {\n",
              "    background-color: var(--hover-bg-color);\n",
              "    box-shadow: 0 1px 2px rgba(60, 64, 67, 0.3), 0 1px 3px 1px rgba(60, 64, 67, 0.15);\n",
              "    fill: var(--button-hover-fill-color);\n",
              "  }\n",
              "\n",
              "  .colab-df-quickchart-complete:disabled,\n",
              "  .colab-df-quickchart-complete:disabled:hover {\n",
              "    background-color: var(--disabled-bg-color);\n",
              "    fill: var(--disabled-fill-color);\n",
              "    box-shadow: none;\n",
              "  }\n",
              "\n",
              "  .colab-df-spinner {\n",
              "    border: 2px solid var(--fill-color);\n",
              "    border-color: transparent;\n",
              "    border-bottom-color: var(--fill-color);\n",
              "    animation:\n",
              "      spin 1s steps(1) infinite;\n",
              "  }\n",
              "\n",
              "  @keyframes spin {\n",
              "    0% {\n",
              "      border-color: transparent;\n",
              "      border-bottom-color: var(--fill-color);\n",
              "      border-left-color: var(--fill-color);\n",
              "    }\n",
              "    20% {\n",
              "      border-color: transparent;\n",
              "      border-left-color: var(--fill-color);\n",
              "      border-top-color: var(--fill-color);\n",
              "    }\n",
              "    30% {\n",
              "      border-color: transparent;\n",
              "      border-left-color: var(--fill-color);\n",
              "      border-top-color: var(--fill-color);\n",
              "      border-right-color: var(--fill-color);\n",
              "    }\n",
              "    40% {\n",
              "      border-color: transparent;\n",
              "      border-right-color: var(--fill-color);\n",
              "      border-top-color: var(--fill-color);\n",
              "    }\n",
              "    60% {\n",
              "      border-color: transparent;\n",
              "      border-right-color: var(--fill-color);\n",
              "    }\n",
              "    80% {\n",
              "      border-color: transparent;\n",
              "      border-right-color: var(--fill-color);\n",
              "      border-bottom-color: var(--fill-color);\n",
              "    }\n",
              "    90% {\n",
              "      border-color: transparent;\n",
              "      border-bottom-color: var(--fill-color);\n",
              "    }\n",
              "  }\n",
              "</style>\n",
              "\n",
              "  <script>\n",
              "    async function quickchart(key) {\n",
              "      const quickchartButtonEl =\n",
              "        document.querySelector('#' + key + ' button');\n",
              "      quickchartButtonEl.disabled = true;  // To prevent multiple clicks.\n",
              "      quickchartButtonEl.classList.add('colab-df-spinner');\n",
              "      try {\n",
              "        const charts = await google.colab.kernel.invokeFunction(\n",
              "            'suggestCharts', [key], {});\n",
              "      } catch (error) {\n",
              "        console.error('Error during call to suggestCharts:', error);\n",
              "      }\n",
              "      quickchartButtonEl.classList.remove('colab-df-spinner');\n",
              "      quickchartButtonEl.classList.add('colab-df-quickchart-complete');\n",
              "    }\n",
              "    (() => {\n",
              "      let quickchartButtonEl =\n",
              "        document.querySelector('#df-dc8ef2be-410c-469d-859d-ad66abc0c474 button');\n",
              "      quickchartButtonEl.style.display =\n",
              "        google.colab.kernel.accessAllowed ? 'block' : 'none';\n",
              "    })();\n",
              "  </script>\n",
              "</div>\n",
              "    </div>\n",
              "  </div>\n"
            ],
            "application/vnd.google.colaboratory.intrinsic+json": {
              "type": "dataframe",
              "summary": "{\n  \"name\": \"df\",\n  \"rows\": 8,\n  \"fields\": [\n    {\n      \"column\": \"blog_id\",\n      \"properties\": {\n        \"dtype\": \"number\",\n        \"std\": 69024.76173564183,\n        \"min\": 1.0,\n        \"max\": 200140.0,\n        \"num_unique_values\": 8,\n        \"samples\": [\n          5652.533621464974,\n          5994.0,\n          200140.0\n        ],\n        \"semantic_type\": \"\",\n        \"description\": \"\"\n      }\n    },\n    {\n      \"column\": \"userId\",\n      \"properties\": {\n        \"dtype\": \"number\",\n        \"std\": 69935.02468138852,\n        \"min\": 10.0,\n        \"max\": 200140.0,\n        \"num_unique_values\": 8,\n        \"samples\": [\n          2545.710157889477,\n          2552.0,\n          200140.0\n        ],\n        \"semantic_type\": \"\",\n        \"description\": \"\"\n      }\n    },\n    {\n      \"column\": \"ratings\",\n      \"properties\": {\n        \"dtype\": \"number\",\n        \"std\": 70759.1207293952,\n        \"min\": 0.5,\n        \"max\": 200140.0,\n        \"num_unique_values\": 7,\n        \"samples\": [\n          200140.0,\n          3.1174677725592086,\n          3.5\n        ],\n        \"semantic_type\": \"\",\n        \"description\": \"\"\n      }\n    }\n  ]\n}"
            }
          },
          "metadata": {},
          "execution_count": 8
        }
      ]
    },
    {
      "cell_type": "code",
      "source": [
        "from surprise import Dataset, SVD, Reader"
      ],
      "metadata": {
        "id": "TJlly9jeN7rQ"
      },
      "execution_count": 9,
      "outputs": []
    },
    {
      "cell_type": "code",
      "source": [
        "!pip install -q surprise"
      ],
      "metadata": {
        "id": "YmhBV4dhMXZv"
      },
      "execution_count": 10,
      "outputs": []
    },
    {
      "cell_type": "code",
      "source": [
        "reader = Reader(rating_scale=(0.5, 5))"
      ],
      "metadata": {
        "id": "9Oq_tHHJNsU6"
      },
      "execution_count": 11,
      "outputs": []
    },
    {
      "cell_type": "code",
      "source": [
        "data = Dataset.load_from_df(df[[\"blog_id\", \"userId\", \"ratings\"]], reader)"
      ],
      "metadata": {
        "id": "PfPhgJ7iN2bA"
      },
      "execution_count": 12,
      "outputs": []
    },
    {
      "cell_type": "code",
      "source": [
        "from surprise.model_selection import train_test_split\n",
        "\n",
        "trainset, testset = train_test_split(data, train_size=0.8)"
      ],
      "metadata": {
        "id": "15HgywuEOFmH"
      },
      "execution_count": 13,
      "outputs": []
    },
    {
      "cell_type": "code",
      "source": [
        "\n",
        "from surprise import BaselineOnly\n",
        "\n",
        "bsl_options = {'method': 'als',\n",
        "               'reg_u': 0.0001,\n",
        "               'reg_i': 0.0001}\n",
        "\n",
        "algo = BaselineOnly(bsl_options=bsl_options)\n",
        "algo.fit(trainset)"
      ],
      "metadata": {
        "colab": {
          "base_uri": "https://localhost:8080/"
        },
        "id": "BydmwiN8OK52",
        "outputId": "43cd7e0c-2f5e-40f2-f04f-fc45dc693085"
      },
      "execution_count": 14,
      "outputs": [
        {
          "output_type": "stream",
          "name": "stdout",
          "text": [
            "Estimating biases using als...\n"
          ]
        },
        {
          "output_type": "execute_result",
          "data": {
            "text/plain": [
              "<surprise.prediction_algorithms.baseline_only.BaselineOnly at 0x7db8d70f4a00>"
            ]
          },
          "metadata": {},
          "execution_count": 14
        }
      ]
    },
    {
      "cell_type": "code",
      "source": [
        "from surprise import SVD\n",
        "\n",
        "alfo = SVD(n_factors=100,\n",
        "           n_epochs=50,\n",
        "           )\n",
        "\n",
        "algo.fit(trainset)"
      ],
      "metadata": {
        "colab": {
          "base_uri": "https://localhost:8080/"
        },
        "id": "QFe4tljjOPAe",
        "outputId": "ce0c6347-d4a1-41d3-aef3-9b9a6219bc50"
      },
      "execution_count": 15,
      "outputs": [
        {
          "output_type": "stream",
          "name": "stdout",
          "text": [
            "Estimating biases using als...\n"
          ]
        },
        {
          "output_type": "execute_result",
          "data": {
            "text/plain": [
              "<surprise.prediction_algorithms.baseline_only.BaselineOnly at 0x7db8d70f4a00>"
            ]
          },
          "metadata": {},
          "execution_count": 15
        }
      ]
    },
    {
      "cell_type": "code",
      "source": [
        "from surprise import KNNBasic\n",
        "\n",
        "algo = KNNBasic(k=10,\n",
        "                min_k=1,\n",
        "                sim_options={'name': 'cosine',\n",
        "                             'user_based': True})\n",
        "\n",
        "algo.fit(trainset)"
      ],
      "metadata": {
        "colab": {
          "base_uri": "https://localhost:8080/"
        },
        "id": "vfmTofvWOUB2",
        "outputId": "9725b37e-2d55-4da5-de85-2456db56d311"
      },
      "execution_count": 16,
      "outputs": [
        {
          "output_type": "stream",
          "name": "stdout",
          "text": [
            "Computing the cosine similarity matrix...\n",
            "Done computing similarity matrix.\n"
          ]
        },
        {
          "output_type": "execute_result",
          "data": {
            "text/plain": [
              "<surprise.prediction_algorithms.knns.KNNBasic at 0x7db8a7149360>"
            ]
          },
          "metadata": {},
          "execution_count": 16
        }
      ]
    },
    {
      "cell_type": "code",
      "source": [
        "from surprise import CoClustering\n",
        "\n",
        "algo = CoClustering(n_cltr_u = 5,\n",
        "                    n_cltr_i = 15,\n",
        "                    n_epochs = 40)\n",
        "\n",
        "algo.fit(trainset)"
      ],
      "metadata": {
        "colab": {
          "base_uri": "https://localhost:8080/"
        },
        "id": "lFSc6tPaOxPO",
        "outputId": "9d4f7f6b-4479-4a5a-fa87-7a0410276988"
      },
      "execution_count": 17,
      "outputs": [
        {
          "output_type": "execute_result",
          "data": {
            "text/plain": [
              "<surprise.prediction_algorithms.co_clustering.CoClustering at 0x7db8a71494e0>"
            ]
          },
          "metadata": {},
          "execution_count": 17
        }
      ]
    },
    {
      "cell_type": "code",
      "source": [
        "from surprise import BaselineOnly, accuracy\n",
        "\n",
        "\n",
        "bsl_options = {'method': 'als',\n",
        "               'reg_u': 0.0001,\n",
        "               'reg_i': 0.0001}\n",
        "\n",
        "algo = BaselineOnly(bsl_options=bsl_options)\n",
        "algo.fit(trainset)\n",
        "\n",
        "preds = algo.test(testset)\n",
        "\n",
        "print(f\"mae = {accuracy.mae(preds, verbose=False)}\")\n",
        "print(f\"mse = {accuracy.mse(preds, verbose=False)}\")\n",
        "print(f\"rmse= {accuracy.rmse(preds, verbose=False)}\")\n",
        "print(f\"fcp = {accuracy.fcp(preds, verbose=False)}\")"
      ],
      "metadata": {
        "colab": {
          "base_uri": "https://localhost:8080/"
        },
        "id": "-_vRZ6PnO9iJ",
        "outputId": "5432bb90-7b77-4f26-9d20-1d169d05e2f6"
      },
      "execution_count": 18,
      "outputs": [
        {
          "output_type": "stream",
          "name": "stdout",
          "text": [
            "Estimating biases using als...\n",
            "mae = 1.6490275822780145\n",
            "mse = 3.477186488384697\n",
            "rmse= 1.8647215578698866\n",
            "fcp = 0.4987313847422496\n"
          ]
        }
      ]
    },
    {
      "cell_type": "code",
      "source": [
        "algo.predict(uid=2,\n",
        "             iid=97)"
      ],
      "metadata": {
        "colab": {
          "base_uri": "https://localhost:8080/"
        },
        "id": "Z2YqjSmjPDa3",
        "outputId": "36f493eb-9ba6-4a6f-f996-1c7ed1ce37c5"
      },
      "execution_count": 19,
      "outputs": [
        {
          "output_type": "execute_result",
          "data": {
            "text/plain": [
              "Prediction(uid=2, iid=97, r_ui=None, est=4.508657858770636, details={'was_impossible': False})"
            ]
          },
          "metadata": {},
          "execution_count": 19
        }
      ]
    },
    {
      "cell_type": "code",
      "source": [
        "!pip install optuna"
      ],
      "metadata": {
        "id": "2aWKWFi4Pxlx",
        "outputId": "a46a2d58-9710-4c41-b692-d75a85d6f13e",
        "colab": {
          "base_uri": "https://localhost:8080/"
        }
      },
      "execution_count": 21,
      "outputs": [
        {
          "output_type": "stream",
          "name": "stdout",
          "text": [
            "Collecting optuna\n",
            "  Downloading optuna-4.0.0-py3-none-any.whl.metadata (16 kB)\n",
            "Collecting alembic>=1.5.0 (from optuna)\n",
            "  Downloading alembic-1.13.2-py3-none-any.whl.metadata (7.4 kB)\n",
            "Collecting colorlog (from optuna)\n",
            "  Downloading colorlog-6.8.2-py3-none-any.whl.metadata (10 kB)\n",
            "Requirement already satisfied: numpy in /usr/local/lib/python3.10/dist-packages (from optuna) (1.26.4)\n",
            "Requirement already satisfied: packaging>=20.0 in /usr/local/lib/python3.10/dist-packages (from optuna) (24.1)\n",
            "Requirement already satisfied: sqlalchemy>=1.3.0 in /usr/local/lib/python3.10/dist-packages (from optuna) (2.0.32)\n",
            "Requirement already satisfied: tqdm in /usr/local/lib/python3.10/dist-packages (from optuna) (4.66.5)\n",
            "Requirement already satisfied: PyYAML in /usr/local/lib/python3.10/dist-packages (from optuna) (6.0.2)\n",
            "Collecting Mako (from alembic>=1.5.0->optuna)\n",
            "  Downloading Mako-1.3.5-py3-none-any.whl.metadata (2.9 kB)\n",
            "Requirement already satisfied: typing-extensions>=4 in /usr/local/lib/python3.10/dist-packages (from alembic>=1.5.0->optuna) (4.12.2)\n",
            "Requirement already satisfied: greenlet!=0.4.17 in /usr/local/lib/python3.10/dist-packages (from sqlalchemy>=1.3.0->optuna) (3.0.3)\n",
            "Requirement already satisfied: MarkupSafe>=0.9.2 in /usr/local/lib/python3.10/dist-packages (from Mako->alembic>=1.5.0->optuna) (2.1.5)\n",
            "Downloading optuna-4.0.0-py3-none-any.whl (362 kB)\n",
            "\u001b[2K   \u001b[90m━━━━━━━━━━━━━━━━━━━━━━━━━━━━━━━━━━━━━━━━\u001b[0m \u001b[32m362.8/362.8 kB\u001b[0m \u001b[31m6.5 MB/s\u001b[0m eta \u001b[36m0:00:00\u001b[0m\n",
            "\u001b[?25hDownloading alembic-1.13.2-py3-none-any.whl (232 kB)\n",
            "\u001b[2K   \u001b[90m━━━━━━━━━━━━━━━━━━━━━━━━━━━━━━━━━━━━━━━━\u001b[0m \u001b[32m233.0/233.0 kB\u001b[0m \u001b[31m12.5 MB/s\u001b[0m eta \u001b[36m0:00:00\u001b[0m\n",
            "\u001b[?25hDownloading colorlog-6.8.2-py3-none-any.whl (11 kB)\n",
            "Downloading Mako-1.3.5-py3-none-any.whl (78 kB)\n",
            "\u001b[2K   \u001b[90m━━━━━━━━━━━━━━━━━━━━━━━━━━━━━━━━━━━━━━━━\u001b[0m \u001b[32m78.6/78.6 kB\u001b[0m \u001b[31m4.6 MB/s\u001b[0m eta \u001b[36m0:00:00\u001b[0m\n",
            "\u001b[?25hInstalling collected packages: Mako, colorlog, alembic, optuna\n",
            "Successfully installed Mako-1.3.5 alembic-1.13.2 colorlog-6.8.2 optuna-4.0.0\n"
          ]
        }
      ]
    },
    {
      "cell_type": "code",
      "source": [
        "import pandas as pd\n",
        "from surprise import Dataset, SVD, Reader, accuracy\n",
        "from surprise.model_selection import train_test_split, cross_validate\n",
        "import optuna\n",
        "\n",
        "# Загрузка данных\n",
        "df = pd.read_csv(\"https://raw.githubusercontent.com/HalyshAnton/IT-Step-Pyton-AI/main/module7/data/Blog%20Ratings.csv\")\n",
        "\n",
        "# Вывод первых строк для проверки\n",
        "print(df.head())\n"
      ],
      "metadata": {
        "colab": {
          "base_uri": "https://localhost:8080/"
        },
        "id": "GxRwZSOVPfnK",
        "outputId": "d6f1fd46-9240-4791-ecbf-c069a5bd5e3c"
      },
      "execution_count": 22,
      "outputs": [
        {
          "output_type": "stream",
          "name": "stdout",
          "text": [
            "   blog_id  userId  ratings\n",
            "0     9025      11      3.5\n",
            "1     9320      11      5.0\n",
            "2     9246      11      3.5\n",
            "3     9431      11      5.0\n",
            "4      875      11      2.0\n"
          ]
        }
      ]
    },
    {
      "cell_type": "code",
      "source": [
        "\n",
        "reader = Reader(rating_scale=(0.5, 5))\n",
        "\n",
        "data = Dataset.load_from_df(df[[\"blog_id\", \"userId\", \"ratings\"]], reader)\n",
        "\n",
        "trainset, testset = train_test_split(data, test_size=0.2)\n"
      ],
      "metadata": {
        "id": "QYfmE-pgQZb6"
      },
      "execution_count": 23,
      "outputs": []
    },
    {
      "cell_type": "code",
      "source": [
        "model = SVD()\n",
        "cross_validate(model, data, measures=['RMSE', 'MAE'], cv=5, verbose=True)\n"
      ],
      "metadata": {
        "id": "4WyL87AsQfAo",
        "outputId": "ebcfd485-cd70-4f71-b1fe-bf0b131a8cad",
        "colab": {
          "base_uri": "https://localhost:8080/"
        }
      },
      "execution_count": 24,
      "outputs": [
        {
          "output_type": "stream",
          "name": "stdout",
          "text": [
            "Evaluating RMSE, MAE of algorithm SVD on 5 split(s).\n",
            "\n",
            "                  Fold 1  Fold 2  Fold 3  Fold 4  Fold 5  Mean    Std     \n",
            "RMSE (testset)    1.8368  1.8342  1.8257  1.8333  1.8329  1.8326  0.0037  \n",
            "MAE (testset)     1.6348  1.6333  1.6248  1.6319  1.6324  1.6314  0.0035  \n",
            "Fit time          5.14    4.89    4.59    4.69    7.65    5.39    1.14    \n",
            "Test time         0.74    0.57    0.29    1.11    0.72    0.69    0.27    \n"
          ]
        },
        {
          "output_type": "execute_result",
          "data": {
            "text/plain": [
              "{'test_rmse': array([1.83683064, 1.83422082, 1.8256785 , 1.8332637 , 1.83292162]),\n",
              " 'test_mae': array([1.63483404, 1.63329251, 1.62479927, 1.6318718 , 1.63236957]),\n",
              " 'fit_time': (5.140553712844849,\n",
              "  4.891180992126465,\n",
              "  4.586735248565674,\n",
              "  4.694289922714233,\n",
              "  7.6485254764556885),\n",
              " 'test_time': (0.7419443130493164,\n",
              "  0.5681638717651367,\n",
              "  0.2888069152832031,\n",
              "  1.1083214282989502,\n",
              "  0.7231965065002441)}"
            ]
          },
          "metadata": {},
          "execution_count": 24
        }
      ]
    },
    {
      "cell_type": "code",
      "source": [
        "def objective(trial):\n",
        "    n_factors = trial.suggest_int('n_factors', 10, 100)\n",
        "    n_epochs = trial.suggest_int('n_epochs', 10, 50)\n",
        "    lr_all = trial.suggest_float('lr_all', 0.001, 0.1)\n",
        "    reg_all = trial.suggest_float('reg_all', 0.02, 0.2)\n",
        "\n",
        "    model = SVD(n_factors=n_factors, n_epochs=n_epochs, lr_all=lr_all, reg_all=reg_all)\n",
        "\n",
        "    results = cross_validate(model, data, measures=['RMSE'], cv=3, verbose=False)\n",
        "\n",
        "    return results['test_rmse'].mean()"
      ],
      "metadata": {
        "id": "omK5_nzzQtqz"
      },
      "execution_count": 25,
      "outputs": []
    },
    {
      "cell_type": "code",
      "source": [
        "study = optuna.create_study(direction='minimize')\n",
        "study.optimize(objective, n_trials=30)\n",
        "\n",
        "study.best_params"
      ],
      "metadata": {
        "id": "8QA1N6yiQ3-1",
        "outputId": "d86c53ac-31c0-47af-a90b-937033fcce06",
        "colab": {
          "base_uri": "https://localhost:8080/"
        }
      },
      "execution_count": 26,
      "outputs": [
        {
          "output_type": "stream",
          "name": "stderr",
          "text": [
            "[I 2024-09-09 19:29:59,575] A new study created in memory with name: no-name-90c62e1b-2ed8-430d-9eb5-74a7f1d96856\n",
            "[I 2024-09-09 19:30:13,606] Trial 0 finished with value: 1.8875587094776154 and parameters: {'n_factors': 97, 'n_epochs': 17, 'lr_all': 0.051781271608670375, 'reg_all': 0.04711010000735133}. Best is trial 0 with value: 1.8875587094776154.\n",
            "[I 2024-09-09 19:30:30,381] Trial 1 finished with value: 1.9024319995070638 and parameters: {'n_factors': 51, 'n_epochs': 26, 'lr_all': 0.07890496966326904, 'reg_all': 0.1243011109974746}. Best is trial 0 with value: 1.8875587094776154.\n",
            "[I 2024-09-09 19:30:51,782] Trial 2 finished with value: 1.8863738111802804 and parameters: {'n_factors': 49, 'n_epochs': 35, 'lr_all': 0.08178575384011885, 'reg_all': 0.1829785165016337}. Best is trial 2 with value: 1.8863738111802804.\n",
            "[I 2024-09-09 19:31:04,117] Trial 3 finished with value: 1.9651307042146993 and parameters: {'n_factors': 31, 'n_epochs': 22, 'lr_all': 0.014132499284689258, 'reg_all': 0.05738696563534243}. Best is trial 2 with value: 1.8863738111802804.\n",
            "[I 2024-09-09 19:31:21,739] Trial 4 finished with value: 1.879320178963723 and parameters: {'n_factors': 96, 'n_epochs': 26, 'lr_all': 0.07183721315496286, 'reg_all': 0.09034747962037717}. Best is trial 4 with value: 1.879320178963723.\n",
            "[I 2024-09-09 19:31:35,569] Trial 5 finished with value: 1.8355072504116656 and parameters: {'n_factors': 41, 'n_epochs': 21, 'lr_all': 0.009255783983017265, 'reg_all': 0.16225301875271958}. Best is trial 5 with value: 1.8355072504116656.\n",
            "[I 2024-09-09 19:31:50,271] Trial 6 finished with value: 1.8978534219029 and parameters: {'n_factors': 41, 'n_epochs': 27, 'lr_all': 0.08225868060290432, 'reg_all': 0.18534845161036423}. Best is trial 5 with value: 1.8355072504116656.\n",
            "[I 2024-09-09 19:32:18,018] Trial 7 finished with value: 1.8831048166678066 and parameters: {'n_factors': 93, 'n_epochs': 39, 'lr_all': 0.09612050927722687, 'reg_all': 0.10120819027375065}. Best is trial 5 with value: 1.8355072504116656.\n",
            "[I 2024-09-09 19:32:39,590] Trial 8 finished with value: 2.0086660754875907 and parameters: {'n_factors': 27, 'n_epochs': 48, 'lr_all': 0.03778479897896173, 'reg_all': 0.06482991754665494}. Best is trial 5 with value: 1.8355072504116656.\n",
            "[I 2024-09-09 19:33:00,220] Trial 9 finished with value: 1.8803214093978848 and parameters: {'n_factors': 91, 'n_epochs': 25, 'lr_all': 0.023019600623359518, 'reg_all': 0.07543053867426239}. Best is trial 5 with value: 1.8355072504116656.\n",
            "[I 2024-09-09 19:33:07,493] Trial 10 finished with value: 1.788499480407702 and parameters: {'n_factors': 11, 'n_epochs': 10, 'lr_all': 0.0040185365476144135, 'reg_all': 0.1433750198452504}. Best is trial 10 with value: 1.788499480407702.\n",
            "[I 2024-09-09 19:33:16,168] Trial 11 finished with value: 1.783029978690806 and parameters: {'n_factors': 11, 'n_epochs': 10, 'lr_all': 0.003040033497442126, 'reg_all': 0.1357858460863155}. Best is trial 11 with value: 1.783029978690806.\n",
            "[I 2024-09-09 19:33:24,251] Trial 12 finished with value: 1.7748178637517409 and parameters: {'n_factors': 10, 'n_epochs': 10, 'lr_all': 0.0015445240743580074, 'reg_all': 0.13836845697925265}. Best is trial 12 with value: 1.7748178637517409.\n",
            "[I 2024-09-09 19:33:32,484] Trial 13 finished with value: 1.8780389801058683 and parameters: {'n_factors': 10, 'n_epochs': 10, 'lr_all': 0.026881107667910693, 'reg_all': 0.1293162681742393}. Best is trial 12 with value: 1.7748178637517409.\n",
            "[I 2024-09-09 19:33:44,586] Trial 14 finished with value: 1.879739316248658 and parameters: {'n_factors': 65, 'n_epochs': 16, 'lr_all': 0.04793371200395809, 'reg_all': 0.15455749536533042}. Best is trial 12 with value: 1.7748178637517409.\n",
            "[I 2024-09-09 19:33:55,063] Trial 15 finished with value: 1.9334436583497414 and parameters: {'n_factors': 24, 'n_epochs': 15, 'lr_all': 0.023282266522101164, 'reg_all': 0.11950153199125384}. Best is trial 12 with value: 1.7748178637517409.\n",
            "[I 2024-09-09 19:34:13,841] Trial 16 finished with value: 1.8374415468206724 and parameters: {'n_factors': 67, 'n_epochs': 33, 'lr_all': 0.0034564570219518184, 'reg_all': 0.022486201283299742}. Best is trial 12 with value: 1.7748178637517409.\n",
            "[I 2024-09-09 19:34:22,050] Trial 17 finished with value: 1.9566965032379844 and parameters: {'n_factors': 18, 'n_epochs': 14, 'lr_all': 0.03884969649396733, 'reg_all': 0.16464018758584584}. Best is trial 12 with value: 1.7748178637517409.\n",
            "[I 2024-09-09 19:34:48,042] Trial 18 finished with value: 1.8680998884624964 and parameters: {'n_factors': 79, 'n_epochs': 44, 'lr_all': 0.014558005183319319, 'reg_all': 0.1356401163218978}. Best is trial 12 with value: 1.7748178637517409.\n",
            "[I 2024-09-09 19:35:00,593] Trial 19 finished with value: 1.9359297448790578 and parameters: {'n_factors': 38, 'n_epochs': 20, 'lr_all': 0.06208176172230809, 'reg_all': 0.10610714720731228}. Best is trial 12 with value: 1.7748178637517409.\n",
            "[I 2024-09-09 19:35:08,088] Trial 20 finished with value: 1.868059913347811 and parameters: {'n_factors': 20, 'n_epochs': 10, 'lr_all': 0.03282680308451095, 'reg_all': 0.19710210405542716}. Best is trial 12 with value: 1.7748178637517409.\n",
            "[I 2024-09-09 19:35:15,394] Trial 21 finished with value: 1.7796656328531093 and parameters: {'n_factors': 10, 'n_epochs': 10, 'lr_all': 0.0026027911229970736, 'reg_all': 0.14470738696247795}. Best is trial 12 with value: 1.7748178637517409.\n",
            "[I 2024-09-09 19:35:25,717] Trial 22 finished with value: 1.832985660659281 and parameters: {'n_factors': 16, 'n_epochs': 13, 'lr_all': 0.014521903969204155, 'reg_all': 0.1485413342912973}. Best is trial 12 with value: 1.7748178637517409.\n",
            "[I 2024-09-09 19:35:36,141] Trial 23 finished with value: 1.7946175697343207 and parameters: {'n_factors': 30, 'n_epochs': 18, 'lr_all': 0.003128600446648367, 'reg_all': 0.1757539239712045}. Best is trial 12 with value: 1.7748178637517409.\n",
            "[I 2024-09-09 19:35:43,999] Trial 24 finished with value: 1.8596440117529058 and parameters: {'n_factors': 11, 'n_epochs': 13, 'lr_all': 0.017003513169224542, 'reg_all': 0.11718608128198905}. Best is trial 12 with value: 1.7748178637517409.\n",
            "[I 2024-09-09 19:35:52,135] Trial 25 finished with value: 1.806332441012368 and parameters: {'n_factors': 21, 'n_epochs': 10, 'lr_all': 0.008586619943272906, 'reg_all': 0.13901581107195193}. Best is trial 12 with value: 1.7748178637517409.\n",
            "[I 2024-09-09 19:36:02,676] Trial 26 finished with value: 1.7925622931406604 and parameters: {'n_factors': 34, 'n_epochs': 19, 'lr_all': 0.002496544248668528, 'reg_all': 0.08637523509107355}. Best is trial 12 with value: 1.7748178637517409.\n",
            "[I 2024-09-09 19:36:11,001] Trial 27 finished with value: 1.9217447460556762 and parameters: {'n_factors': 16, 'n_epochs': 13, 'lr_all': 0.02999986089784158, 'reg_all': 0.16351085499314372}. Best is trial 12 with value: 1.7748178637517409.\n",
            "[I 2024-09-09 19:36:23,499] Trial 28 finished with value: 1.9722095967877291 and parameters: {'n_factors': 25, 'n_epochs': 23, 'lr_all': 0.021826215302037592, 'reg_all': 0.10653521421547453}. Best is trial 12 with value: 1.7748178637517409.\n",
            "[I 2024-09-09 19:36:33,091] Trial 29 finished with value: 2.038589068548031 and parameters: {'n_factors': 10, 'n_epochs': 17, 'lr_all': 0.04929234979683258, 'reg_all': 0.152419197846348}. Best is trial 12 with value: 1.7748178637517409.\n"
          ]
        },
        {
          "output_type": "execute_result",
          "data": {
            "text/plain": [
              "{'n_factors': 10,\n",
              " 'n_epochs': 10,\n",
              " 'lr_all': 0.0015445240743580074,\n",
              " 'reg_all': 0.13836845697925265}"
            ]
          },
          "metadata": {},
          "execution_count": 26
        }
      ]
    },
    {
      "cell_type": "code",
      "source": [
        "best_model = SVD(**study.best_params)\n",
        "best_model.fit(trainset)\n",
        "predictions = best_model.test(testset)\n",
        "print(\"Лучший RMSE на тестовом наборе данных:\", accuracy.rmse(predictions))"
      ],
      "metadata": {
        "id": "1QvbHNT0RAmV",
        "outputId": "e987c5bd-a8c1-4442-a9ad-34fc26642753",
        "colab": {
          "base_uri": "https://localhost:8080/"
        }
      },
      "execution_count": 27,
      "outputs": [
        {
          "output_type": "stream",
          "name": "stdout",
          "text": [
            "RMSE: 1.7728\n",
            "Лучший RMSE на тестовом наборе данных: 1.772806567089823\n"
          ]
        }
      ]
    }
  ]
}